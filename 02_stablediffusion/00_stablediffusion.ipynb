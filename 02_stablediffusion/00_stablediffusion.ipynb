{
 "cells": [
  {
   "cell_type": "markdown",
   "id": "dab554c6",
   "metadata": {},
   "source": [
    "# 使用 Stable Diffusion 修改 DeepRacer 赛道图像并分析模型的行为"
   ]
  },
  {
   "cell_type": "markdown",
   "id": "dd530481-aafe-4765-9575-576d04c13c1e",
   "metadata": {},
   "source": [
    "在本实验室练习中，我们将使用修改后的 DeepRacer 赛道图像来分析我们的 DeepRacer 模型在现实世界中可能的表现。\n",
    "\n",
    "我们的起始图像来源于用于训练和评估 DeepRacer 模型的虚拟世界 DeepRacer 控制台。使用 Stable Diffusion，我们修改这些图像以模拟“现实世界”的赛道，通过增加照明条件和赛道背景的变化。\n",
    "\n",
    "为了节约 GPU 资源，我们在这里不部署 Stable Diffusion 模型。如果您对如何自己部署这些模型感兴趣，请参阅 `01_stablediffusion_original.ipynb`，其中包含了完整的原始代码。"
   ]
  },
  {
   "cell_type": "markdown",
   "id": "d5bada6e-1e52-42b0-b658-90994df6f1a0",
   "metadata": {
    "tags": []
   },
   "source": [
    "## 架构\n",
    "\n",
    "下面是用来生成我们将用来测试模型的“真实感”赛道图像的架构。\n",
    "\n",
    "![](./images/lab2_arch.png)"
   ]
  },
  {
   "cell_type": "markdown",
   "id": "c1cd9a38-d0eb-40ee-a475-32ba8f9162cd",
   "metadata": {
    "tags": []
   },
   "source": [
    "# 使用我们更新的DeepRacer图像来测试模型性能\n",
    "\n",
    "使用 `output_images` 中的图像，让我们测试其中一个DeepRacer模型并查看其性能表现。"
   ]
  },
  {
   "cell_type": "code",
   "execution_count": null,
   "id": "690d6704-a955-466d-b62f-5d72ef14cb2c",
   "metadata": {
    "tags": []
   },
   "outputs": [],
   "source": [
    "import re\n",
    "import numpy as np\n",
    "import pandas as pd\n",
    "import matplotlib.pyplot as plt\n",
    "from datetime import datetime\n",
    "import boto3\n",
    "import logging\n",
    "import shutil\n",
    "import os\n",
    "import glob\n",
    "import math\n",
    "import tarfile\n",
    "import requests\n",
    "import json\n",
    "%matplotlib inline"
   ]
  },
  {
   "cell_type": "code",
   "execution_count": null,
   "id": "cfe43ceb-449f-4ca6-ad03-068d6dea07ea",
   "metadata": {
    "tags": []
   },
   "outputs": [],
   "source": [
    "!pip install shapely\n",
    "!pip install opencv-python-headless"
   ]
  },
  {
   "cell_type": "code",
   "execution_count": null,
   "id": "ddaa3e05-c783-4529-aa2a-c7211a7c1c84",
   "metadata": {
    "tags": []
   },
   "outputs": [],
   "source": [
    "# Shapely Library\n",
    "from shapely.geometry import Point, Polygon\n",
    "from shapely.geometry.polygon import LinearRing, LineString"
   ]
  },
  {
   "cell_type": "code",
   "execution_count": null,
   "id": "26e4e26e-f27e-4506-bb82-bfa4d42148df",
   "metadata": {
    "tags": []
   },
   "outputs": [],
   "source": [
    "from log_analysis import *\n",
    "from os import listdir\n",
    "from os.path import isfile, join"
   ]
  },
  {
   "cell_type": "code",
   "execution_count": null,
   "id": "5f1619cf",
   "metadata": {},
   "outputs": [],
   "source": [
    "# 设置模型名称（注意，目前我们只支持仓库中包含的演示模型）\n",
    "model_name=\"AtoZ-CCW-Centerline\""
   ]
  },
  {
   "cell_type": "code",
   "execution_count": null,
   "id": "30b9bd95-18e8-499a-8957-e52684c6f15d",
   "metadata": {
    "tags": []
   },
   "outputs": [],
   "source": [
    "!rm -rf ./intermediate_checkpoint"
   ]
  },
  {
   "cell_type": "markdown",
   "id": "3c4b902a-47b1-4d2a-bddd-fb7fe46c6873",
   "metadata": {
    "tags": []
   },
   "source": [
    "接下来，我们将模型复制到 `02_stablediffusion` 内的正确路径中。"
   ]
  },
  {
   "cell_type": "code",
   "execution_count": null,
   "id": "f77fa0aa-62d4-438c-b0b7-347c64bc4aee",
   "metadata": {
    "tags": []
   },
   "outputs": [],
   "source": [
    "!mkdir -p intermediate_checkpoint/model-artifacts/\n",
    "\n",
    "if model_name == \"AtoZ-CCW-Centerline\":\n",
    "    print(\"Using AtoZ-CCW-Centerline demo model\")\n",
    "    !cp -R ../deepracer_models/AtoZ-CCW-Centerline/ intermediate_checkpoint/model-artifacts/\n",
    "elif model_name == \"AtoZ-CCW-Steering-Penalty\":\n",
    "    print(\"Using AtoZ-CCW-Steering-Penalty demo model\")\n",
    "    !cp -R ../deepracer_models/AtoZ-CCW-Steering-Penalty/ intermediate_checkpoint/model-artifacts/\n",
    "else:\n",
    "    print(\"Check your model name...it doesn't appear to be one of the demo models.\")"
   ]
  },
  {
   "cell_type": "markdown",
   "id": "dfe1f628-127e-4710-962a-73b0c5eeb00d",
   "metadata": {
    "tags": []
   },
   "source": [
    "接下来，让我们读取模型的元数据和动作空间变量。这些将在未来的步骤中用于渲染图像的热图。"
   ]
  },
  {
   "cell_type": "code",
   "execution_count": null,
   "id": "9499fb25-464b-4a2b-b8cc-100a3c05a05f",
   "metadata": {
    "tags": []
   },
   "outputs": [],
   "source": [
    "with open(\"intermediate_checkpoint/model-artifacts/{}/model_metadata.json\".format(model_name),\"r\") as jsonin:\n",
    "    model_metadata=json.load(jsonin)\n",
    "sensor = [sensor for sensor in model_metadata['sensor'] if sensor != \"LIDAR\"][0]\n",
    "model_metadata"
   ]
  },
  {
   "cell_type": "code",
   "execution_count": null,
   "id": "4bd5925d-6ee6-4f6a-ad1f-bcee4b3d4774",
   "metadata": {
    "tags": []
   },
   "outputs": [],
   "source": [
    "# Track Segment Labels\n",
    "action_names = []\n",
    "for action in model_metadata['action_space']:\n",
    "    action_names.append(\"ST\"+str(action['steering_angle'])+\" SP\"+\"%.2f\"%action[\"speed\"])\n",
    "action_names"
   ]
  },
  {
   "cell_type": "markdown",
   "id": "91dba75c-c605-42d9-88dd-8a6be8cf8646",
   "metadata": {},
   "source": [
    "在下一步中，我们读取在此实验室创建的图像并将其存储在一个数组中。"
   ]
  },
  {
   "cell_type": "code",
   "execution_count": null,
   "id": "3084e740-80f2-40c9-90b8-0225caabc2d7",
   "metadata": {
    "tags": []
   },
   "outputs": [],
   "source": [
    "import glob\n",
    "img_path = \"output_images\"\n",
    "all_files = sorted(glob.glob(img_path + '/*.png'))"
   ]
  },
  {
   "cell_type": "markdown",
   "id": "09e3dce2-b530-42c6-9a80-9939eecfa769",
   "metadata": {
    "tags": []
   },
   "source": [
    "我们将使用 TensorFlow 来运行模型以处理新创建的图像。让我们安装它。"
   ]
  },
  {
   "cell_type": "code",
   "execution_count": null,
   "id": "bd103178-1ff0-477a-a201-733548406d4a",
   "metadata": {
    "tags": []
   },
   "outputs": [],
   "source": [
    "!pip uninstall numpy -y\n",
    "!pip install --quiet tensorflow"
   ]
  },
  {
   "cell_type": "markdown",
   "id": "f7292a5c-b48a-4fd6-bf76-99bc724a1570",
   "metadata": {
    "tags": []
   },
   "source": [
    "在接下来的两个步骤中，我们将导入以 protobuf 格式存储的模型图定义，并将新图像输入到模型中。"
   ]
  },
  {
   "cell_type": "code",
   "execution_count": null,
   "id": "c00f9074-0857-4a20-b2b2-a24a05c6b8b0",
   "metadata": {
    "tags": []
   },
   "outputs": [],
   "source": [
    "import os\n",
    "os.environ['TF_CPP_MIN_LOG_LEVEL'] = '3'"
   ]
  },
  {
   "cell_type": "code",
   "execution_count": null,
   "id": "817def48-e1f6-4bdb-acce-a3bfbc2dbf4b",
   "metadata": {
    "tags": []
   },
   "outputs": [],
   "source": [
    "%%capture tensor_setup_output\n",
    "import logging\n",
    "import tensorflow.compat.v1 as tf\n",
    "from tensorflow.python.platform import gfile\n",
    "from PIL import Image\n",
    "tf.disable_v2_behavior()\n",
    "\n",
    "logger = tf.get_logger()\n",
    "logger.setLevel(logging.ERROR)\n",
    "\n",
    "\n",
    "GRAPH_PB_PATH = 'intermediate_checkpoint/'\n",
    "\n",
    "def load_session(pb_path):\n",
    "    sess = tf.Session(config=tf.ConfigProto(allow_soft_placement=True,\n",
    "                                    log_device_placement=True))\n",
    "    print(\"load graph:\", pb_path)\n",
    "    with gfile.FastGFile(pb_path,'rb') as f:\n",
    "        graph_def = tf.GraphDef()\n",
    "    graph_def.ParseFromString(f.read())\n",
    "    sess.graph.as_default()\n",
    "    tf.import_graph_def(graph_def, name='')\n",
    "    graph_nodes=[n for n in graph_def.node]\n",
    "    names = []\n",
    "    for t in graph_nodes:\n",
    "        names.append(t.name)\n",
    "\n",
    "    # For front cameras/stereo camera use the below\n",
    "    x = sess.graph.get_tensor_by_name('main_level/agent/main/online/network_0/{}/{}:0'.format(sensor, sensor))\n",
    "    y = sess.graph.get_tensor_by_name('main_level/agent/main/online/network_1/ppo_head_0/policy:0')\n",
    "\n",
    "    return sess, x, y\n",
    "\n",
    "def rgb2gray(rgb):\n",
    "    return np.dot(rgb[...,:3], [0.299, 0.587, 0.114])\n"
   ]
  },
  {
   "cell_type": "code",
   "execution_count": null,
   "id": "a78d17f7-fb17-49a8-bc7f-224f6d4b9bc2",
   "metadata": {
    "tags": []
   },
   "outputs": [],
   "source": [
    "print(GRAPH_PB_PATH)"
   ]
  },
  {
   "cell_type": "code",
   "execution_count": null,
   "id": "c85c6020-cc63-44ad-8fc2-c5920650af8a",
   "metadata": {
    "tags": []
   },
   "outputs": [],
   "source": [
    "%%capture tensorflow_logs\n",
    "import logging\n",
    "model_inference = []\n",
    "iterations = [7,8,9]\n",
    "models_file_path = glob.glob(\"{}model-artifacts/{}/model/model*.pb\".format(GRAPH_PB_PATH, model_name))\n",
    "for model_file in models_file_path:\n",
    "\n",
    "    model, obs, model_out = load_session(model_file)\n",
    "    arr = []\n",
    "    for f in all_files[:]:\n",
    "        img = Image.open(f)\n",
    "        img_arr = np.array(img)\n",
    "        img_arr = rgb2gray(img_arr)\n",
    "        img_arr = np.expand_dims(img_arr, axis=2)\n",
    "        current_state = {\"observation\": img_arr} #(1, 120, 160, 1)\n",
    "        y_output = model.run(model_out, feed_dict={obs:[img_arr]})[0]\n",
    "        arr.append (y_output)\n",
    "    model_inference.append(arr)\n",
    "    model.close()\n",
    "    tf.reset_default_graph()"
   ]
  },
  {
   "cell_type": "markdown",
   "id": "a2118895-3214-4794-b96b-31f786982fd5",
   "metadata": {
    "tags": []
   },
   "source": [
    "我们将在预训练的 DeepRacer 模型上使用 OpenCV 方法处理 Stable Diffusion 生成的图像，并将其叠加到热图上，同时考虑 DeepRacer 模型的权重。"
   ]
  },
  {
   "cell_type": "code",
   "execution_count": null,
   "id": "4aed1805-d43f-4393-9df1-b0b4e677cf8e",
   "metadata": {
    "tags": []
   },
   "outputs": [],
   "source": [
    "import cv2\n",
    "\n",
    "def visualize_gradcam_discrete_ppo(sess, rgb_img, category_index=0, num_of_actions=5):\n",
    "    '''\n",
    "    @inp: model session, RGB Image - np array, action_index, total number of actions\n",
    "    @return: overlayed heatmap\n",
    "    '''\n",
    "\n",
    "    img_arr = np.array(img)\n",
    "    img_arr = rgb2gray(img_arr)\n",
    "    img_arr = np.expand_dims(img_arr, axis=2)\n",
    "\n",
    "    x = sess.graph.get_tensor_by_name('main_level/agent/main/online/network_0/{}/{}:0'.format(sensor, sensor))\n",
    "    y = sess.graph.get_tensor_by_name('main_level/agent/main/online/network_1/ppo_head_0/policy:0')\n",
    "    feed_dict = {x:[img_arr]}\n",
    "\n",
    "    #Get the policy head for clipped ppo in coach\n",
    "    model_out_layer = sess.graph.get_tensor_by_name('main_level/agent/main/online/network_1/ppo_head_0/policy:0')\n",
    "    loss = tf.multiply(model_out_layer, tf.one_hot([category_index], num_of_actions))\n",
    "    reduced_loss = tf.reduce_sum(loss[0])\n",
    "\n",
    "    # For front cameras use the below\n",
    "    conv_output = sess.graph.get_tensor_by_name('main_level/agent/main/online/network_1/{}/Conv2d_4/Conv2D:0'.format(sensor))\n",
    "\n",
    "    grads = tf.gradients(reduced_loss, conv_output)[0]\n",
    "    output, grads_val = sess.run([conv_output, grads], feed_dict=feed_dict)\n",
    "    weights = np.mean(grads_val, axis=(1, 2))\n",
    "    cams = np.sum(weights * output, axis=3)\n",
    "\n",
    "    ##im_h, im_w = 120, 160##\n",
    "    im_h, im_w = rgb_img.shape[:2]\n",
    "\n",
    "    cam = cams[0] #img 0\n",
    "    image = np.uint8(rgb_img[:, :, ::-1] * 255.0) # RGB -> BGR\n",
    "    cam = cv2.resize(cam, (im_w, im_h)) # zoom heatmap\n",
    "    cam = np.maximum(cam, 0) # relu clip\n",
    "    heatmap = cam / np.max(cam) # normalize\n",
    "    cam = cv2.applyColorMap(np.uint8(255 * heatmap), cv2.COLORMAP_JET) # grayscale to color\n",
    "    cam = np.float32(cam) + np.float32(image) # overlay heatmap\n",
    "    cam = 255 * cam / (np.max(cam) + 1E-5) ##  Add expsilon for stability\n",
    "    cam = np.uint8(cam)[:, :, ::-1] # to RGB\n",
    "\n",
    "    return cam"
   ]
  },
  {
   "cell_type": "markdown",
   "id": "2d90409a-a2d8-4616-8ac5-de2b8e7eec97",
   "metadata": {},
   "source": [
    "现在，让我们循环遍历输出文件夹中 Stable Diffusion 生成的图像，并将其传递给上面定义的热图可视化函数。生成的热图将存储到名为 \"heatmaps\" 的数组中。"
   ]
  },
  {
   "cell_type": "code",
   "execution_count": null,
   "id": "e0f8fac1-46db-4937-8f36-1b8f73bc1041",
   "metadata": {
    "tags": []
   },
   "outputs": [],
   "source": [
    "%%capture heatmap_cell_logs\n",
    "model_path = models_file_path[0] #Change this to your model 'pb' frozen graph file\n",
    "\n",
    "model, obs, model_out = load_session(model_path)\n",
    "heatmaps = []\n",
    "print(all_files)\n",
    "#Just need to match up the shape of the neural network\n",
    "if 'action_space_type' in model_metadata and model_metadata['action_space_type']=='continuous':\n",
    "    num_of_actions=2\n",
    "else:\n",
    "    num_of_actions=len(action_names)\n",
    "\n",
    "for f in all_files[:6]:\n",
    "    img = np.array(Image.open(f))\n",
    "    heatmap = visualize_gradcam_discrete_ppo(model, img, category_index=0, num_of_actions=num_of_actions)\n",
    "    heatmaps.append(heatmap)\n",
    "tf.reset_default_graph()"
   ]
  },
  {
   "cell_type": "code",
   "execution_count": null,
   "id": "5c4691a2-404a-4f1b-b4f2-b2fc19414939",
   "metadata": {
    "tags": []
   },
   "outputs": [],
   "source": [
    "# Display the images used to generate the heatmaps\n",
    "image_folder = 'output_images'\n",
    "\n",
    "# List all files in the directory\n",
    "files = [os.path.join(image_folder, file) for file in os.listdir(image_folder) if file.endswith(('png', 'jpg', 'jpeg', 'bmp', 'gif'))]\n",
    "\n",
    "# Display all images\n",
    "for f in all_files[:6]:\n",
    "    img = Image.open(f)\n",
    "    plt.figure(figsize=(6, 6))  # Adjust the figure size as needed\n",
    "    plt.imshow(img)\n",
    "    plt.axis('off')  # Hide axes\n",
    "    plt.title(os.path.basename(f))  # Optional: add title with file name\n",
    "    plt.show()"
   ]
  },
  {
   "cell_type": "code",
   "execution_count": null,
   "id": "caf1434d-108b-48ec-be15-01efe39bde38",
   "metadata": {
    "tags": []
   },
   "outputs": [],
   "source": [
    "for i in range(len(heatmaps)):\n",
    "    plt.imshow(heatmaps[i])\n",
    "    plt.show()"
   ]
  },
  {
   "cell_type": "markdown",
   "id": "90862d25-33f0-4d13-9688-f789ac03fcc6",
   "metadata": {},
   "source": [
    "## 实验结论\n",
    "\n",
    "在这次实验中，我们已经成功地：\n",
    "\n",
    "- 将更真实的赛道图像输入到我们的DeepRacer模型中\n",
    "- 生成热图以了解我们的模型关注输入图像的哪些部分\n",
    "\n",
    "在这里，我们已经看到了生成式AI模型如何帮助测试和评估各种系统，包括其他机器学习模型。"
   ]
  },
  {
   "cell_type": "code",
   "execution_count": null,
   "id": "116c31ae-dfc9-4d7a-8c8a-e357f72689b5",
   "metadata": {},
   "outputs": [],
   "source": []
  }
 ],
 "metadata": {
  "availableInstances": [
   {
    "_defaultOrder": 0,
    "_isFastLaunch": true,
    "category": "General purpose",
    "gpuNum": 0,
    "hideHardwareSpecs": false,
    "memoryGiB": 4,
    "name": "ml.t3.medium",
    "vcpuNum": 2
   },
   {
    "_defaultOrder": 1,
    "_isFastLaunch": false,
    "category": "General purpose",
    "gpuNum": 0,
    "hideHardwareSpecs": false,
    "memoryGiB": 8,
    "name": "ml.t3.large",
    "vcpuNum": 2
   },
   {
    "_defaultOrder": 2,
    "_isFastLaunch": false,
    "category": "General purpose",
    "gpuNum": 0,
    "hideHardwareSpecs": false,
    "memoryGiB": 16,
    "name": "ml.t3.xlarge",
    "vcpuNum": 4
   },
   {
    "_defaultOrder": 3,
    "_isFastLaunch": false,
    "category": "General purpose",
    "gpuNum": 0,
    "hideHardwareSpecs": false,
    "memoryGiB": 32,
    "name": "ml.t3.2xlarge",
    "vcpuNum": 8
   },
   {
    "_defaultOrder": 4,
    "_isFastLaunch": true,
    "category": "General purpose",
    "gpuNum": 0,
    "hideHardwareSpecs": false,
    "memoryGiB": 8,
    "name": "ml.m5.large",
    "vcpuNum": 2
   },
   {
    "_defaultOrder": 5,
    "_isFastLaunch": false,
    "category": "General purpose",
    "gpuNum": 0,
    "hideHardwareSpecs": false,
    "memoryGiB": 16,
    "name": "ml.m5.xlarge",
    "vcpuNum": 4
   },
   {
    "_defaultOrder": 6,
    "_isFastLaunch": false,
    "category": "General purpose",
    "gpuNum": 0,
    "hideHardwareSpecs": false,
    "memoryGiB": 32,
    "name": "ml.m5.2xlarge",
    "vcpuNum": 8
   },
   {
    "_defaultOrder": 7,
    "_isFastLaunch": false,
    "category": "General purpose",
    "gpuNum": 0,
    "hideHardwareSpecs": false,
    "memoryGiB": 64,
    "name": "ml.m5.4xlarge",
    "vcpuNum": 16
   },
   {
    "_defaultOrder": 8,
    "_isFastLaunch": false,
    "category": "General purpose",
    "gpuNum": 0,
    "hideHardwareSpecs": false,
    "memoryGiB": 128,
    "name": "ml.m5.8xlarge",
    "vcpuNum": 32
   },
   {
    "_defaultOrder": 9,
    "_isFastLaunch": false,
    "category": "General purpose",
    "gpuNum": 0,
    "hideHardwareSpecs": false,
    "memoryGiB": 192,
    "name": "ml.m5.12xlarge",
    "vcpuNum": 48
   },
   {
    "_defaultOrder": 10,
    "_isFastLaunch": false,
    "category": "General purpose",
    "gpuNum": 0,
    "hideHardwareSpecs": false,
    "memoryGiB": 256,
    "name": "ml.m5.16xlarge",
    "vcpuNum": 64
   },
   {
    "_defaultOrder": 11,
    "_isFastLaunch": false,
    "category": "General purpose",
    "gpuNum": 0,
    "hideHardwareSpecs": false,
    "memoryGiB": 384,
    "name": "ml.m5.24xlarge",
    "vcpuNum": 96
   },
   {
    "_defaultOrder": 12,
    "_isFastLaunch": false,
    "category": "General purpose",
    "gpuNum": 0,
    "hideHardwareSpecs": false,
    "memoryGiB": 8,
    "name": "ml.m5d.large",
    "vcpuNum": 2
   },
   {
    "_defaultOrder": 13,
    "_isFastLaunch": false,
    "category": "General purpose",
    "gpuNum": 0,
    "hideHardwareSpecs": false,
    "memoryGiB": 16,
    "name": "ml.m5d.xlarge",
    "vcpuNum": 4
   },
   {
    "_defaultOrder": 14,
    "_isFastLaunch": false,
    "category": "General purpose",
    "gpuNum": 0,
    "hideHardwareSpecs": false,
    "memoryGiB": 32,
    "name": "ml.m5d.2xlarge",
    "vcpuNum": 8
   },
   {
    "_defaultOrder": 15,
    "_isFastLaunch": false,
    "category": "General purpose",
    "gpuNum": 0,
    "hideHardwareSpecs": false,
    "memoryGiB": 64,
    "name": "ml.m5d.4xlarge",
    "vcpuNum": 16
   },
   {
    "_defaultOrder": 16,
    "_isFastLaunch": false,
    "category": "General purpose",
    "gpuNum": 0,
    "hideHardwareSpecs": false,
    "memoryGiB": 128,
    "name": "ml.m5d.8xlarge",
    "vcpuNum": 32
   },
   {
    "_defaultOrder": 17,
    "_isFastLaunch": false,
    "category": "General purpose",
    "gpuNum": 0,
    "hideHardwareSpecs": false,
    "memoryGiB": 192,
    "name": "ml.m5d.12xlarge",
    "vcpuNum": 48
   },
   {
    "_defaultOrder": 18,
    "_isFastLaunch": false,
    "category": "General purpose",
    "gpuNum": 0,
    "hideHardwareSpecs": false,
    "memoryGiB": 256,
    "name": "ml.m5d.16xlarge",
    "vcpuNum": 64
   },
   {
    "_defaultOrder": 19,
    "_isFastLaunch": false,
    "category": "General purpose",
    "gpuNum": 0,
    "hideHardwareSpecs": false,
    "memoryGiB": 384,
    "name": "ml.m5d.24xlarge",
    "vcpuNum": 96
   },
   {
    "_defaultOrder": 20,
    "_isFastLaunch": false,
    "category": "General purpose",
    "gpuNum": 0,
    "hideHardwareSpecs": true,
    "memoryGiB": 0,
    "name": "ml.geospatial.interactive",
    "supportedImageNames": [
     "sagemaker-geospatial-v1-0"
    ],
    "vcpuNum": 0
   },
   {
    "_defaultOrder": 21,
    "_isFastLaunch": true,
    "category": "Compute optimized",
    "gpuNum": 0,
    "hideHardwareSpecs": false,
    "memoryGiB": 4,
    "name": "ml.c5.large",
    "vcpuNum": 2
   },
   {
    "_defaultOrder": 22,
    "_isFastLaunch": false,
    "category": "Compute optimized",
    "gpuNum": 0,
    "hideHardwareSpecs": false,
    "memoryGiB": 8,
    "name": "ml.c5.xlarge",
    "vcpuNum": 4
   },
   {
    "_defaultOrder": 23,
    "_isFastLaunch": false,
    "category": "Compute optimized",
    "gpuNum": 0,
    "hideHardwareSpecs": false,
    "memoryGiB": 16,
    "name": "ml.c5.2xlarge",
    "vcpuNum": 8
   },
   {
    "_defaultOrder": 24,
    "_isFastLaunch": false,
    "category": "Compute optimized",
    "gpuNum": 0,
    "hideHardwareSpecs": false,
    "memoryGiB": 32,
    "name": "ml.c5.4xlarge",
    "vcpuNum": 16
   },
   {
    "_defaultOrder": 25,
    "_isFastLaunch": false,
    "category": "Compute optimized",
    "gpuNum": 0,
    "hideHardwareSpecs": false,
    "memoryGiB": 72,
    "name": "ml.c5.9xlarge",
    "vcpuNum": 36
   },
   {
    "_defaultOrder": 26,
    "_isFastLaunch": false,
    "category": "Compute optimized",
    "gpuNum": 0,
    "hideHardwareSpecs": false,
    "memoryGiB": 96,
    "name": "ml.c5.12xlarge",
    "vcpuNum": 48
   },
   {
    "_defaultOrder": 27,
    "_isFastLaunch": false,
    "category": "Compute optimized",
    "gpuNum": 0,
    "hideHardwareSpecs": false,
    "memoryGiB": 144,
    "name": "ml.c5.18xlarge",
    "vcpuNum": 72
   },
   {
    "_defaultOrder": 28,
    "_isFastLaunch": false,
    "category": "Compute optimized",
    "gpuNum": 0,
    "hideHardwareSpecs": false,
    "memoryGiB": 192,
    "name": "ml.c5.24xlarge",
    "vcpuNum": 96
   },
   {
    "_defaultOrder": 29,
    "_isFastLaunch": true,
    "category": "Accelerated computing",
    "gpuNum": 1,
    "hideHardwareSpecs": false,
    "memoryGiB": 16,
    "name": "ml.g4dn.xlarge",
    "vcpuNum": 4
   },
   {
    "_defaultOrder": 30,
    "_isFastLaunch": false,
    "category": "Accelerated computing",
    "gpuNum": 1,
    "hideHardwareSpecs": false,
    "memoryGiB": 32,
    "name": "ml.g4dn.2xlarge",
    "vcpuNum": 8
   },
   {
    "_defaultOrder": 31,
    "_isFastLaunch": false,
    "category": "Accelerated computing",
    "gpuNum": 1,
    "hideHardwareSpecs": false,
    "memoryGiB": 64,
    "name": "ml.g4dn.4xlarge",
    "vcpuNum": 16
   },
   {
    "_defaultOrder": 32,
    "_isFastLaunch": false,
    "category": "Accelerated computing",
    "gpuNum": 1,
    "hideHardwareSpecs": false,
    "memoryGiB": 128,
    "name": "ml.g4dn.8xlarge",
    "vcpuNum": 32
   },
   {
    "_defaultOrder": 33,
    "_isFastLaunch": false,
    "category": "Accelerated computing",
    "gpuNum": 4,
    "hideHardwareSpecs": false,
    "memoryGiB": 192,
    "name": "ml.g4dn.12xlarge",
    "vcpuNum": 48
   },
   {
    "_defaultOrder": 34,
    "_isFastLaunch": false,
    "category": "Accelerated computing",
    "gpuNum": 1,
    "hideHardwareSpecs": false,
    "memoryGiB": 256,
    "name": "ml.g4dn.16xlarge",
    "vcpuNum": 64
   },
   {
    "_defaultOrder": 35,
    "_isFastLaunch": false,
    "category": "Accelerated computing",
    "gpuNum": 1,
    "hideHardwareSpecs": false,
    "memoryGiB": 61,
    "name": "ml.p3.2xlarge",
    "vcpuNum": 8
   },
   {
    "_defaultOrder": 36,
    "_isFastLaunch": false,
    "category": "Accelerated computing",
    "gpuNum": 4,
    "hideHardwareSpecs": false,
    "memoryGiB": 244,
    "name": "ml.p3.8xlarge",
    "vcpuNum": 32
   },
   {
    "_defaultOrder": 37,
    "_isFastLaunch": false,
    "category": "Accelerated computing",
    "gpuNum": 8,
    "hideHardwareSpecs": false,
    "memoryGiB": 488,
    "name": "ml.p3.16xlarge",
    "vcpuNum": 64
   },
   {
    "_defaultOrder": 38,
    "_isFastLaunch": false,
    "category": "Accelerated computing",
    "gpuNum": 8,
    "hideHardwareSpecs": false,
    "memoryGiB": 768,
    "name": "ml.p3dn.24xlarge",
    "vcpuNum": 96
   },
   {
    "_defaultOrder": 39,
    "_isFastLaunch": false,
    "category": "Memory Optimized",
    "gpuNum": 0,
    "hideHardwareSpecs": false,
    "memoryGiB": 16,
    "name": "ml.r5.large",
    "vcpuNum": 2
   },
   {
    "_defaultOrder": 40,
    "_isFastLaunch": false,
    "category": "Memory Optimized",
    "gpuNum": 0,
    "hideHardwareSpecs": false,
    "memoryGiB": 32,
    "name": "ml.r5.xlarge",
    "vcpuNum": 4
   },
   {
    "_defaultOrder": 41,
    "_isFastLaunch": false,
    "category": "Memory Optimized",
    "gpuNum": 0,
    "hideHardwareSpecs": false,
    "memoryGiB": 64,
    "name": "ml.r5.2xlarge",
    "vcpuNum": 8
   },
   {
    "_defaultOrder": 42,
    "_isFastLaunch": false,
    "category": "Memory Optimized",
    "gpuNum": 0,
    "hideHardwareSpecs": false,
    "memoryGiB": 128,
    "name": "ml.r5.4xlarge",
    "vcpuNum": 16
   },
   {
    "_defaultOrder": 43,
    "_isFastLaunch": false,
    "category": "Memory Optimized",
    "gpuNum": 0,
    "hideHardwareSpecs": false,
    "memoryGiB": 256,
    "name": "ml.r5.8xlarge",
    "vcpuNum": 32
   },
   {
    "_defaultOrder": 44,
    "_isFastLaunch": false,
    "category": "Memory Optimized",
    "gpuNum": 0,
    "hideHardwareSpecs": false,
    "memoryGiB": 384,
    "name": "ml.r5.12xlarge",
    "vcpuNum": 48
   },
   {
    "_defaultOrder": 45,
    "_isFastLaunch": false,
    "category": "Memory Optimized",
    "gpuNum": 0,
    "hideHardwareSpecs": false,
    "memoryGiB": 512,
    "name": "ml.r5.16xlarge",
    "vcpuNum": 64
   },
   {
    "_defaultOrder": 46,
    "_isFastLaunch": false,
    "category": "Memory Optimized",
    "gpuNum": 0,
    "hideHardwareSpecs": false,
    "memoryGiB": 768,
    "name": "ml.r5.24xlarge",
    "vcpuNum": 96
   },
   {
    "_defaultOrder": 47,
    "_isFastLaunch": false,
    "category": "Accelerated computing",
    "gpuNum": 1,
    "hideHardwareSpecs": false,
    "memoryGiB": 16,
    "name": "ml.g5.xlarge",
    "vcpuNum": 4
   },
   {
    "_defaultOrder": 48,
    "_isFastLaunch": false,
    "category": "Accelerated computing",
    "gpuNum": 1,
    "hideHardwareSpecs": false,
    "memoryGiB": 32,
    "name": "ml.g5.2xlarge",
    "vcpuNum": 8
   },
   {
    "_defaultOrder": 49,
    "_isFastLaunch": false,
    "category": "Accelerated computing",
    "gpuNum": 1,
    "hideHardwareSpecs": false,
    "memoryGiB": 64,
    "name": "ml.g5.4xlarge",
    "vcpuNum": 16
   },
   {
    "_defaultOrder": 50,
    "_isFastLaunch": false,
    "category": "Accelerated computing",
    "gpuNum": 1,
    "hideHardwareSpecs": false,
    "memoryGiB": 128,
    "name": "ml.g5.8xlarge",
    "vcpuNum": 32
   },
   {
    "_defaultOrder": 51,
    "_isFastLaunch": false,
    "category": "Accelerated computing",
    "gpuNum": 1,
    "hideHardwareSpecs": false,
    "memoryGiB": 256,
    "name": "ml.g5.16xlarge",
    "vcpuNum": 64
   },
   {
    "_defaultOrder": 52,
    "_isFastLaunch": false,
    "category": "Accelerated computing",
    "gpuNum": 4,
    "hideHardwareSpecs": false,
    "memoryGiB": 192,
    "name": "ml.g5.12xlarge",
    "vcpuNum": 48
   },
   {
    "_defaultOrder": 53,
    "_isFastLaunch": false,
    "category": "Accelerated computing",
    "gpuNum": 4,
    "hideHardwareSpecs": false,
    "memoryGiB": 384,
    "name": "ml.g5.24xlarge",
    "vcpuNum": 96
   },
   {
    "_defaultOrder": 54,
    "_isFastLaunch": false,
    "category": "Accelerated computing",
    "gpuNum": 8,
    "hideHardwareSpecs": false,
    "memoryGiB": 768,
    "name": "ml.g5.48xlarge",
    "vcpuNum": 192
   },
   {
    "_defaultOrder": 55,
    "_isFastLaunch": false,
    "category": "Accelerated computing",
    "gpuNum": 8,
    "hideHardwareSpecs": false,
    "memoryGiB": 1152,
    "name": "ml.p4d.24xlarge",
    "vcpuNum": 96
   },
   {
    "_defaultOrder": 56,
    "_isFastLaunch": false,
    "category": "Accelerated computing",
    "gpuNum": 8,
    "hideHardwareSpecs": false,
    "memoryGiB": 1152,
    "name": "ml.p4de.24xlarge",
    "vcpuNum": 96
   }
  ],
  "instance_type": "ml.m5.large",
  "kernelspec": {
   "display_name": "conda_tensorflow2_p310",
   "language": "python",
   "name": "conda_tensorflow2_p310"
  },
  "language_info": {
   "codemirror_mode": {
    "name": "ipython",
    "version": 3
   },
   "file_extension": ".py",
   "mimetype": "text/x-python",
   "name": "python",
   "nbconvert_exporter": "python",
   "pygments_lexer": "ipython3",
   "version": "3.10.14"
  }
 },
 "nbformat": 4,
 "nbformat_minor": 5
}
